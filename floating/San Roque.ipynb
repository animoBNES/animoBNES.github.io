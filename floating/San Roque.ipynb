{
 "cells": [
  {
   "cell_type": "markdown",
   "id": "13a6bbbe",
   "metadata": {},
   "source": [
    "# San Roque"
   ]
  },
  {
   "cell_type": "markdown",
   "id": "b7c102e3",
   "metadata": {},
   "source": [
    "SRPC 150MWac to 165MWac Floating Solar PV Power Plant"
   ]
  },
  {
   "cell_type": "markdown",
   "id": "1dfb6197",
   "metadata": {},
   "source": [
    "145000079 Feasibility Study"
   ]
  },
  {
   "cell_type": "markdown",
   "id": "6e45da26",
   "metadata": {},
   "source": [
    "# waves2Foam vs IHFoam/OlaFlow"
   ]
  },
  {
   "cell_type": "markdown",
   "id": "42a9bb44",
   "metadata": {},
   "source": [
    "## COMPARISON OF DIFFERENT METHODS FOR GENERATION AND ABSORPTION OF WATER WAVES"
   ]
  },
  {
   "cell_type": "markdown",
   "id": "8c1d8337",
   "metadata": {},
   "source": [
    "- June 2019\n",
    "- Revista de Engenharia Térmica 18(1):71-77\n",
    "- DOI: 10.5380/reterm.v18i1.67053\n",
    "- José CondeJosé Conde"
   ]
  },
  {
   "cell_type": "markdown",
   "id": "9b3e8522",
   "metadata": {},
   "source": [
    "- The knowledge of water wave characteristics\n",
    "    - generation\n",
    "    - propagation\n",
    "    - transformation\n",
    "    - breaking\n",
    "- is fundamental for hydrodynamic studies and \n",
    "    the design of ocean, coastal and port structures.\n",
    "    \n",
    "- In addition to the small-scale experimental studies,\n",
    "    the use of numerical models is also a very important tool in hydrodynamic studies. \n",
    "- To have reliable numerical results \n",
    "    - a proper validation is required. \n",
    "- The main objective of this paper is \n",
    "    - to compare different methods of \n",
    "        - wave generation and wave absorption \n",
    "        - in a numerical flume, \n",
    "    - and to find what is the most suited to simulate\n",
    "        - non-breaking regular wave propagation \n",
    "        - in a two-dimensional flume \n",
    "        - in deep water condition. \n",
    "- The numerical simulations were made using the OpenFOAM® software package. \n",
    "- Two solvers, \n",
    "    - waves2Foam and \n",
    "    - IHFoam/OlaFlow, \n",
    "    - the utility GroovyBC and \n",
    "    - a mesh stretching technique are compared. \n",
    "- These numerical codes solve \n",
    "    - the transient Navier-Stokes equations and \n",
    "    - use a VoF (Volume of Fluid) method \n",
    "    - to identify the free surface. \n",
    "- A solution dependence study with the methods of \n",
    "    - wave generation and wave absorption is presented.\n",
    "- The results are also compared \n",
    "    - with the theoretical wave and experimental data. \n",
    "- The results show that \n",
    "    - the different methods of generation \n",
    "        produce waves similar to the theoretical and the experimental ones, \n",
    "    - only slightly differences were visible. \n",
    "- The three method of \n",
    "    - wave dissipation considered produce very different results: \n",
    "    - IHFoam/OlaFlow is not able to dissipate the wave tested; \n",
    "    - the mesh stretching technique is able to dissipate the waves but \n",
    "        - produces a water level rise; \n",
    "    - the waves2Foam solver is able to dissipate properly the wave tested."
   ]
  },
  {
   "cell_type": "markdown",
   "id": "1da6ba7b",
   "metadata": {},
   "source": [
    "# Wave"
   ]
  },
  {
   "cell_type": "markdown",
   "id": "eb55909e",
   "metadata": {},
   "source": [
    "# Wave"
   ]
  },
  {
   "cell_type": "markdown",
   "id": "192995c4",
   "metadata": {},
   "source": [
    "- 저수지의 파고\n",
    "    - 가정 심해파\n",
    "    - 대안거리: F\n",
    "    - 풍속: U\n",
    "    - SMB (Sverdruv Munk Bretschneider Modification) method\n",
    "    - 다시사빌 (T. Saville)에 의한 수정\n",
    "        - 처오름 높이를 포함한 파고 R"
   ]
  },
  {
   "cell_type": "markdown",
   "id": "71cc572c",
   "metadata": {},
   "source": [
    "## SMB method"
   ]
  },
  {
   "cell_type": "markdown",
   "id": "d40104d0",
   "metadata": {},
   "source": [
    "- 유의파고 h\n",
    "- 파장 L"
   ]
  },
  {
   "cell_type": "code",
   "execution_count": 14,
   "id": "c3f2947a",
   "metadata": {},
   "outputs": [],
   "source": [
    "h1 = lambda U, F: 0.0283*0.0125*9.80665**(0.42-1) \\\n",
    "    * U**(2-.42*2) * F**0.42"
   ]
  },
  {
   "cell_type": "code",
   "execution_count": 17,
   "id": "8ee5dccb",
   "metadata": {},
   "outputs": [
    {
     "name": "stdout",
     "output_type": "stream",
     "text": [
      "9.410538085939766e-05\n",
      "1.1600000000000001\n"
     ]
    }
   ],
   "source": [
    "print(0.0283*0.0125*9.80665**(0.42-1))\n",
    "print(2-.42*2)"
   ]
  },
  {
   "cell_type": "code",
   "execution_count": 12,
   "id": "46206d47",
   "metadata": {},
   "outputs": [],
   "source": [
    "h = lambda U, F: 0.00086 * U**1.1 * F**0.45\n",
    "L = lambda U, F: 0.011 * U**0.84 * F**.58"
   ]
  },
  {
   "cell_type": "code",
   "execution_count": 13,
   "id": "ced39399",
   "metadata": {},
   "outputs": [
    {
     "data": {
      "text/plain": [
       "0.08600000000000002"
      ]
     },
     "execution_count": 13,
     "metadata": {},
     "output_type": "execute_result"
    }
   ],
   "source": [
    "h(10,100)"
   ]
  },
  {
   "cell_type": "code",
   "execution_count": 15,
   "id": "a031592d",
   "metadata": {},
   "outputs": [
    {
     "data": {
      "text/plain": [
       "0.009410538085939767"
      ]
     },
     "execution_count": 15,
     "metadata": {},
     "output_type": "execute_result"
    }
   ],
   "source": [
    "h1(10,100)"
   ]
  },
  {
   "cell_type": "code",
   "execution_count": 20,
   "id": "66c7bae9",
   "metadata": {},
   "outputs": [],
   "source": [
    "%matplotlib notebook"
   ]
  },
  {
   "cell_type": "code",
   "execution_count": 36,
   "id": "894de9a8",
   "metadata": {},
   "outputs": [],
   "source": [
    "%matplotlib inline"
   ]
  },
  {
   "cell_type": "code",
   "execution_count": 41,
   "id": "261e26ae",
   "metadata": {},
   "outputs": [
    {
     "data": {
      "image/png": "[encoded data removed]",
      "text/plain": [
       "<Figure size 485.41x360 with 2 Axes>"
      ]
     },
     "metadata": {},
     "output_type": "display_data"
    }
   ],
   "source": [
    "# fig = plt.figure()\n",
    "# ax = fig.add_subplot(projection='3d')\n",
    "# fig, ax = plt.subplots(nrows=nr, ncols=nc, figsize=[3*x for x in (golden,.7)])\n",
    "fig, ax0 = plt.subplots(nrows=1, ncols=2, figsize=[3*x for x in (golden,1.2)])\n",
    "ax = ax0[0]\n",
    "\n",
    "# n_U = 2**4\n",
    "# n_F = 2**4\n",
    "\n",
    "# U = [i/(n_U-1)*100 for i in range(n_U)]\n",
    "# F = [i/(n_F-1)*1000 for i in range(n_F)]\n",
    "\n",
    "U = [20,30,75]\n",
    "F = [100,1000,10000]\n",
    "\n",
    "n_U = len(U)\n",
    "n_F = len(F)\n",
    "\n",
    "for ii in range(n_U):\n",
    "    U_ii = U[ii]\n",
    "    y = [h(U_ii,Fi) for Fi in F]\n",
    "#         ax.plot3(U,y)\n",
    "    ax.plot(F,y)\n",
    "ax.set_xlabel('F [m]')\n",
    "ax.set_ylabel('H [m]')\n",
    "ax.set_xscale('log')\n",
    "ax.set_yscale('log')\n",
    "ax.set_xlim([100,10000])\n",
    "ax.set_ylim([.01,10])\n",
    "ax.grid()\n",
    "\n",
    "ax = ax0[1]\n",
    "for ii in range(n_U):\n",
    "    U_ii = U[ii]\n",
    "#     F_ii = F[ii]\n",
    "    y = [L(U_ii,F_ii) for F_ii in F]\n",
    "#         ax.plot3(U,y)\n",
    "    ax.plot(F,y)\n",
    "# ax.set_xlabel('U [m/s]')\n",
    "ax.set_xlabel('F [m]')\n",
    "ax.set_ylabel('L [m]')\n",
    "ax.set_xscale('log')\n",
    "ax.set_yscale('log')\n",
    "ax.set_xlim([100,10000])\n",
    "ax.set_ylim([1,1000])\n",
    "ax.grid()\n",
    "\n",
    "# plt.show()        "
   ]
  },
  {
   "cell_type": "code",
   "execution_count": null,
   "id": "599232c2",
   "metadata": {},
   "outputs": [],
   "source": []
  },
  {
   "cell_type": "markdown",
   "id": "d1201d10",
   "metadata": {},
   "source": [
    "# FINE"
   ]
  }
 ],
 "metadata": {
  "kernelspec": {
   "display_name": "Python 3 (ipykernel)",
   "language": "python",
   "name": "python3"
  },
  "language_info": {
   "codemirror_mode": {
    "name": "ipython",
    "version": 3
   },
   "file_extension": ".py",
   "mimetype": "text/x-python",
   "name": "python",
   "nbconvert_exporter": "python",
   "pygments_lexer": "ipython3",
   "version": "3.9.17"
  },
  "toc": {
   "base_numbering": 1,
   "nav_menu": {},
   "number_sections": true,
   "sideBar": true,
   "skip_h1_title": false,
   "title_cell": "Table of Contents",
   "title_sidebar": "Contents",
   "toc_cell": false,
   "toc_position": {
    "height": "calc(100% - 180px)",
    "left": "10px",
    "top": "150px",
    "width": "172.517px"
   },
   "toc_section_display": true,
   "toc_window_display": true
  }
 },
 "nbformat": 4,
 "nbformat_minor": 5
}
